{
  "nbformat": 4,
  "nbformat_minor": 0,
  "metadata": {
    "colab": {
      "name": "Untitled0.ipynb",
      "provenance": [],
      "toc_visible": true,
      "authorship_tag": "ABX9TyO2hu6Y89PpBu3mZVLUaZHx",
      "include_colab_link": true
    },
    "kernelspec": {
      "name": "python3",
      "display_name": "Python 3"
    }
  },
  "cells": [
    {
      "cell_type": "markdown",
      "metadata": {
        "id": "view-in-github",
        "colab_type": "text"
      },
      "source": [
        "<a href=\"https://colab.research.google.com/github/ashishdas009/Machine_Learning/blob/master/akd410_assignment3.ipynb\" target=\"_parent\"><img src=\"https://colab.research.google.com/assets/colab-badge.svg\" alt=\"Open In Colab\"/></a>"
      ]
    },
    {
      "cell_type": "code",
      "metadata": {
        "id": "TjMcoeWOdUhh",
        "colab_type": "code",
        "colab": {}
      },
      "source": [
        "import numpy as np\n",
        "import pandas as pd\n",
        "import matplotlib.pyplot as plt\n",
        "from sklearn.linear_model import LogisticRegression\n",
        "from sklearn.datasets import fetch_kddcup99\n",
        "from mpl_toolkits.mplot3d import Axes3D\n",
        "import seaborn as sb\n",
        "import math\n",
        "        \n"
      ],
      "execution_count": 32,
      "outputs": []
    },
    {
      "cell_type": "code",
      "metadata": {
        "id": "-jxdPChcoJEX",
        "colab_type": "code",
        "colab": {
          "base_uri": "https://localhost:8080/",
          "height": 34
        },
        "outputId": "80ff7828-2bb2-4144-c40a-e416eb0253af"
      },
      "source": [
        "!git clone https://github.com/ashishdas009/Machine_Learning.git"
      ],
      "execution_count": 47,
      "outputs": [
        {
          "output_type": "stream",
          "text": [
            "fatal: destination path 'Machine_Learning' already exists and is not an empty directory.\n"
          ],
          "name": "stdout"
        }
      ]
    },
    {
      "cell_type": "code",
      "metadata": {
        "id": "8JEnLTq6qEeU",
        "colab_type": "code",
        "colab": {
          "base_uri": "https://localhost:8080/",
          "height": 34
        },
        "outputId": "685d3d9f-41b5-436f-f936-aec7148b79a1"
      },
      "source": [
        "!ls"
      ],
      "execution_count": 48,
      "outputs": [
        {
          "output_type": "stream",
          "text": [
            "adc.json  Machine_Learning  sample_data\n"
          ],
          "name": "stdout"
        }
      ]
    },
    {
      "cell_type": "code",
      "metadata": {
        "id": "vQO5gD_VpJfE",
        "colab_type": "code",
        "colab": {
          "base_uri": "https://localhost:8080/",
          "height": 151
        },
        "outputId": "e2ab58c2-6bcf-43d6-dd73-7823e2e8eb12"
      },
      "source": [
        "df = pd.read_excel('Machine_Learning/Intrusion_detection_dataset.xlsx')\n",
        "print(df.head())"
      ],
      "execution_count": 54,
      "outputs": [
        {
          "output_type": "stream",
          "text": [
            "   duration protocol_type  ... dst_host_srv_rerror_rate   label\n",
            "0         0           tcp  ...                      0.0  normal\n",
            "1         0           tcp  ...                      0.0  normal\n",
            "2         0           tcp  ...                      0.0  normal\n",
            "3         0           tcp  ...                      0.0  normal\n",
            "4         0           tcp  ...                      0.0  normal\n",
            "\n",
            "[5 rows x 42 columns]\n"
          ],
          "name": "stdout"
        }
      ]
    },
    {
      "cell_type": "code",
      "metadata": {
        "id": "EsGNlXIBeRan",
        "colab_type": "code",
        "colab": {}
      },
      "source": [
        "#intr_df['Main_label'] = intr_df['label']\n",
        "\n",
        "df.loc[df.label == \"back\", 'label'] = \"NotProbe\"\n",
        "df.loc[df.label == \"land\", 'label'] = \"NotProbe\"\n",
        "df.loc[df.label == \"neptune\", 'label'] = \"NotProbe\"\n",
        "df.loc[df.label == \"pod\", 'label'] = \"NotProbe\"\n",
        "df.loc[df.label == \"smurf\", 'label'] = \"NotProbe\"\n",
        "df.loc[df.label == \"teardrop\", 'label'] = \"NotProbe\"\n",
        "\n",
        "df.loc[df.label == \"normal\", 'label'] = \"NotProbe\"\n",
        "\n",
        "df.loc[df.label == \"buffer_overflow\", 'label'] = \"NotProbe\"\n",
        "df.loc[df.label == \"loadmodule\", 'label'] = \"NotProbe\"\n",
        "df.loc[df.label == \"perl\", 'label'] = \"NotProbe\"\n",
        "df.loc[df.label == \"rootkit\", 'label'] = \"NotProbe\"\n",
        "df.loc[df.label == \"ftp_write\", 'label'] = \"NotProbe\"\n",
        "df.loc[df.label == \"guess_passwd\", 'label'] = \"NotProbe\"\n",
        "df.loc[df.label == \"imap\", 'label'] = \"NotProbe\"\n",
        "df.loc[df.label == \"multihop\", 'label'] = \"NotProbe\"\n",
        "df.loc[df.label == \"phf\", 'label'] = \"NotProbe\"\n",
        "df.loc[df.label == \"spf\", 'label'] = \"R2L\"\n",
        "df.loc[df.label == \"warezclient\", 'label'] = \"NotProbe\"\n",
        "df.loc[df.label == \"warezmaster\", 'label'] = \"NotProbe\"\n",
        "\n",
        "df.loc[df.label == \"nmap\", 'label'] = \"probe\"\n",
        "df.loc[df.label == \"ipsweep\", 'label'] = \"probe\"\n",
        "df.loc[df.label == \"portsweep\", 'label'] = \"probe\"\n",
        "df.loc[df.label == \"satan\", 'label'] = \"probe\"\n",
        "\n"
      ],
      "execution_count": 60,
      "outputs": []
    },
    {
      "cell_type": "code",
      "metadata": {
        "id": "zXO3elvXf34n",
        "colab_type": "code",
        "colab": {}
      },
      "source": [
        "def partition(X, T, ratio=[0.8, 0.2]): \n",
        "    \n",
        "    assert(np.sum(ratio) == 1)\n",
        "    \n",
        "    # shuffle the data indices \n",
        "    idxs = np.random.permutation(X.index)\n",
        "    \n",
        "    # the number of samples \n",
        "    N = X.shape[0]\n",
        "    \n",
        "    Xs = []\n",
        "    Ts = []\n",
        "    i = 0  # first index to zero\n",
        "    for k, r in enumerate(ratio):\n",
        "        print(\"k....r\",k,r)\n",
        "        nrows = int(round(N * r))  # number of rows\n",
        "        print(\"rows: \",nrows)\n",
        "        \n",
        "        if k == len(ratio) -1:\n",
        "            Xs.append(X.iloc[i:, :])\n",
        "            Ts.append(T.iloc[i:, :])\n",
        "        else:\n",
        "            Xs.append(X.iloc[i:i+nrows, :])\n",
        "            Ts.append(T.iloc[i:i+nrows, :])\n",
        "        \n",
        "        i += nrows\n",
        "    \n",
        "    return Xs, Ts"
      ],
      "execution_count": 62,
      "outputs": []
    },
    {
      "cell_type": "code",
      "metadata": {
        "id": "wC7Cx8ssubVl",
        "colab_type": "code",
        "colab": {
          "base_uri": "https://localhost:8080/",
          "height": 151
        },
        "outputId": "3682c785-dd14-4564-e198-3f26ca040c0f"
      },
      "source": [
        "Xlst, Tlst = partition(pd.DataFrame(df), pd.DataFrame(df))\n",
        "\n",
        "intr_train_x, intr_test_x = [i.values for i in Xlst]\n",
        "intr_train_t, intr_test_t = [j.values for j in Tlst]\n",
        "\n",
        "print(\"Train X\",intr_train_x.shape)\n",
        "print(\"Test X\",intr_train_t.shape)\n",
        "print(\"Train T\",intr_test_x.shape)\n",
        "print(\"Test T\",intr_test_t.shape)"
      ],
      "execution_count": 65,
      "outputs": [
        {
          "output_type": "stream",
          "text": [
            "k....r 0 0.8\n",
            "rows:  20810\n",
            "k....r 1 0.2\n",
            "rows:  5203\n",
            "Train X (20810, 42)\n",
            "Test X (20810, 42)\n",
            "Train T (5203, 42)\n",
            "Test T (5203, 42)\n"
          ],
          "name": "stdout"
        }
      ]
    },
    {
      "cell_type": "code",
      "metadata": {
        "id": "6wJrS-ZIullH",
        "colab_type": "code",
        "colab": {}
      },
      "source": [
        ""
      ],
      "execution_count": null,
      "outputs": []
    }
  ]
}